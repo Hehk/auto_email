{
 "cells": [
  {
   "cell_type": "code",
   "execution_count": null,
   "metadata": {},
   "outputs": [],
   "source": [
    "import os.path\n",
    "\n",
    "from google.auth.transport.requests import Request\n",
    "from google.oauth2.credentials import Credentials\n",
    "from google_auth_oauthlib.flow import InstalledAppFlow\n",
    "from googleapiclient.discovery import build\n",
    "from googleapiclient.errors import HttpError\n",
    "\n",
    "# If modifying these scopes, delete the file token.json.\n",
    "SCOPES = ['https://www.googleapis.com/auth/gmail.readonly']\n",
    "if os.path.exists('../secrets/token.json'):\n",
    "  creds = Credentials.from_authorized_user_file('../secrets/token.json', SCOPES)"
   ]
  },
  {
   "cell_type": "code",
   "execution_count": null,
   "metadata": {},
   "outputs": [],
   "source": [
    "service = build('gmail', 'v1', credentials=creds)"
   ]
  },
  {
   "cell_type": "code",
   "execution_count": null,
   "metadata": {},
   "outputs": [],
   "source": [
    "results = service.users().messages().list(userId='me', labelIds=['SENT']).execute()\n",
    "results.get('messages')"
   ]
  },
  {
   "cell_type": "code",
   "execution_count": null,
   "metadata": {},
   "outputs": [],
   "source": [
    "results.get('messages')[0].get('id')"
   ]
  },
  {
   "cell_type": "code",
   "execution_count": null,
   "metadata": {},
   "outputs": [],
   "source": [
    "# Load the actual message\n",
    "top_message = results.get('messages')[0].get('id')\n",
    "message = service.users().messages().get(userId=\"me\", id=top_message).execute()\n",
    "message"
   ]
  },
  {
   "cell_type": "code",
   "execution_count": null,
   "metadata": {},
   "outputs": [],
   "source": [
    "import base64\n",
    "\n",
    "parts = message.get('payload').get('parts')\n",
    "part = None\n",
    "for p in parts:\n",
    "  if p.get('mimeType') == 'text/plain':\n",
    "    part = p\n",
    "    break\n",
    "    \n",
    "content = None\n",
    "if part:\n",
    "  data = part.get('body').get('data')\n",
    "  encoded = bytes(str(data),encoding='utf-8')\n",
    "  content = base64.urlsafe_b64decode(encoded).decode('utf-8')"
   ]
  },
  {
   "cell_type": "markdown",
   "metadata": {},
   "source": [
    "## Quoted Content\n",
    "I am trying to clear out the quoted content shit..."
   ]
  },
  {
   "cell_type": "code",
   "execution_count": null,
   "metadata": {},
   "outputs": [],
   "source": [
    "import re\n",
    "\n",
    "lines = content.split('\\n')\n",
    "message = []\n",
    "for line in lines:\n",
    "  result = re.search(r'^On.*< \\S+ > wrote:', line)\n",
    "  if result:\n",
    "    break\n",
    "  else:\n",
    "    message.append(line)\n",
    "\n",
    "message = '\\n'.join(message)\n",
    "print(message)"
   ]
  },
  {
   "cell_type": "markdown",
   "metadata": {},
   "source": [
    "# Now, lets get a thread"
   ]
  },
  {
   "cell_type": "code",
   "execution_count": null,
   "metadata": {},
   "outputs": [],
   "source": [
    "top_message = top_message = results.get('messages')[0]\n",
    "top_message\n",
    "thread = service.users().threads().get(userId=\"me\", id=top_message.get(\"threadId\")).execute()\n",
    "thread"
   ]
  },
  {
   "cell_type": "code",
   "execution_count": null,
   "metadata": {},
   "outputs": [],
   "source": [
    "# Trying to get plain text unquoted content for a message\n",
    "# this way I can loop through a thread and get all the content\n",
    "\n",
    "# TODO add some kind of error handling\n",
    "def parse_message (json):\n",
    "  parts = json.get('payload').get('parts')\n",
    "  part = None\n",
    "  # Working right now off plaintext\n",
    "  for p in parts:\n",
    "    if p.get('mimeType') == 'text/plain':\n",
    "      part = p\n",
    "      break\n",
    "      \n",
    "  content = None\n",
    "  if part:\n",
    "    data = part.get('body').get('data')\n",
    "    encoded = bytes(str(data),encoding='utf-8')\n",
    "    content = base64.urlsafe_b64decode(encoded).decode('utf-8')\n",
    "    \n",
    "  lines = content.split('\\n')\n",
    "  message = []\n",
    "  for line in lines:\n",
    "    result = re.search(r'^On.*<.*>,? wrote:', line)\n",
    "    if result:\n",
    "      break\n",
    "    else:\n",
    "      message.append(line)\n",
    "\n",
    "  message = '\\n'.join(message)\n",
    "  return message\n",
    "    "
   ]
  },
  {
   "cell_type": "code",
   "execution_count": null,
   "metadata": {},
   "outputs": [],
   "source": [
    "print(parse_message(thread.get('messages')[2]))"
   ]
  },
  {
   "cell_type": "code",
   "execution_count": null,
   "metadata": {},
   "outputs": [],
   "source": [
    "json = service.users().messages().get(userId=\"me\", id=top_message.get('id')).execute()\n",
    "def get_previous_messages(json):\n",
    "  thread = service.users().threads().get(userId=\"me\", id=top_message.get(\"threadId\")).execute()\n",
    "  message_id = json.get('id')\n",
    "\n",
    "  messages = thread.get('messages')\n",
    "  previous_messages = []\n",
    "  for message in messages:\n",
    "    if message_id != message.get('id'):\n",
    "      previous_messages.append(parse_message(message))\n",
    "    else:\n",
    "      break\n",
    "      \n",
    "  return previous_messages\n",
    "\n",
    "previous_messages = get_previous_messages(json)"
   ]
  },
  {
   "cell_type": "code",
   "execution_count": null,
   "metadata": {},
   "outputs": [],
   "source": [
    "print(\"THREAD\")\n",
    "for m in previous_messages:\n",
    "  print(m)\n",
    "  print(\"=== \\n\")\n",
    "  \n",
    "print(\"\\nRESPONSE\")\n",
    "print(parse_message(json))\n"
   ]
  }
 ],
 "metadata": {
  "kernelspec": {
   "display_name": "Python 3.10.6 64-bit",
   "language": "python",
   "name": "python3"
  },
  "language_info": {
   "codemirror_mode": {
    "name": "ipython",
    "version": 3
   },
   "file_extension": ".py",
   "mimetype": "text/x-python",
   "name": "python",
   "nbconvert_exporter": "python",
   "pygments_lexer": "ipython3",
   "version": "3.10.6"
  },
  "vscode": {
   "interpreter": {
    "hash": "eda7e54fe21129b67f77862937907ee926f057597a3e2fa1e18ac955e40912b3"
   }
  }
 },
 "nbformat": 4,
 "nbformat_minor": 2
}
