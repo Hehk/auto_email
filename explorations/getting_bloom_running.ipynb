{
 "cells": [
  {
   "cell_type": "code",
   "execution_count": 2,
   "metadata": {},
   "outputs": [
    {
     "name": "stderr",
     "output_type": "stream",
     "text": [
      "Downloading: 100%|██████████| 222/222 [00:00<00:00, 71.1kB/s]\n",
      "Downloading: 100%|██████████| 14.5M/14.5M [00:00<00:00, 52.3MB/s]\n",
      "Downloading: 100%|██████████| 85.0/85.0 [00:00<00:00, 42.4kB/s]\n",
      "Downloading: 100%|██████████| 710/710 [00:00<00:00, 163kB/s]\n",
      "Downloading: 100%|██████████| 1.12G/1.12G [00:32<00:00, 34.2MB/s]\n"
     ]
    }
   ],
   "source": [
    "from transformers import AutoTokenizer, AutoModel\n",
    "\n",
    "tokenizer = AutoTokenizer.from_pretrained(\"bigscience/bloom-560m\")\n",
    "\n",
    "model = AutoModel.from_pretrained(\"bigscience/bloom-560m\")"
   ]
  },
  {
   "cell_type": "code",
   "execution_count": 3,
   "metadata": {},
   "outputs": [],
   "source": [
    "inputs = tokenizer(\"Hello, my dog Reg is awesome at playing soccer!\", return_tensors=\"pt\")\n",
    "outputs = model(**inputs)\n",
    "\n",
    "last_hidden_states = outputs.last_hidden_state"
   ]
  },
  {
   "cell_type": "code",
   "execution_count": 19,
   "metadata": {},
   "outputs": [],
   "source": [
    "import torch\n",
    "prompt = \"Hello, my dog Reg is awesome at playing soccer!\"\n",
    "result_length = 200\n",
    "input = tokenizer(prompt, return_tensors=\"pt\")"
   ]
  },
  {
   "cell_type": "code",
   "execution_count": 20,
   "metadata": {},
   "outputs": [
    {
     "name": "stdout",
     "output_type": "stream",
     "text": [
      "Hello, my dog Reg is awesome at playing soccer! He is a very smart, playful, and energetic dog. He loves to play with his friends and loves to play with his family. He is a very good dog and loves to play with his friends. He is a very good dog and loves to play with his friends. He is a very good dog and loves to play with his friends. He is a very good dog and loves to play with his friends. He is a very good dog and loves to play with his friends. He is a very good dog and loves to play with his friends. He is a very good dog and loves to play with his friends. He is a very good dog and loves to play with his friends. He is a very good dog and loves to play with his friends. He is a very good dog and loves to play with his friends. He is a very good dog and loves to play with his friends. He is a very good dog\n"
     ]
    }
   ],
   "source": [
    "# Greedy Search\n",
    "print(tokenizer.decode(model.generate(inputs[\"input_ids\"], \n",
    "                       max_length=result_length\n",
    "                      )[0]))"
   ]
  },
  {
   "cell_type": "code",
   "execution_count": 15,
   "metadata": {},
   "outputs": [],
   "source": [
    "model_name = \"bigscience/bloom-1b3\"\n",
    "# Using this string did not work..."
   ]
  },
  {
   "cell_type": "code",
   "execution_count": 17,
   "metadata": {},
   "outputs": [],
   "source": [
    "from transformers import BloomForCausalLM, BloomTokenizerFast\n",
    "model = BloomForCausalLM.from_pretrained(\"bigscience/bloom-560m\")\n",
    "tokenizer = BloomTokenizerFast.from_pretrained(\"bigscience/bloom-560m\")"
   ]
  }
 ],
 "metadata": {
  "kernelspec": {
   "display_name": "Python 3.10.6 64-bit",
   "language": "python",
   "name": "python3"
  },
  "language_info": {
   "codemirror_mode": {
    "name": "ipython",
    "version": 3
   },
   "file_extension": ".py",
   "mimetype": "text/x-python",
   "name": "python",
   "nbconvert_exporter": "python",
   "pygments_lexer": "ipython3",
   "version": "3.10.6"
  },
  "orig_nbformat": 4,
  "vscode": {
   "interpreter": {
    "hash": "eda7e54fe21129b67f77862937907ee926f057597a3e2fa1e18ac955e40912b3"
   }
  }
 },
 "nbformat": 4,
 "nbformat_minor": 2
}
